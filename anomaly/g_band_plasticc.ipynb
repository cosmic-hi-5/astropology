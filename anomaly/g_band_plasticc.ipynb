{
 "cells": [
  {
   "cell_type": "code",
   "execution_count": 103,
   "metadata": {},
   "outputs": [],
   "source": [
    "import os\n",
    "import matplotlib.pyplot as plt\n",
    "import numpy as np\n",
    "import pandas as pd\n",
    "from persim import plot_diagrams"
   ]
  },
  {
   "cell_type": "code",
   "execution_count": 104,
   "metadata": {},
   "outputs": [],
   "source": [
    "from astropology.constants import PASSBANDS, CLASSES\n",
    "from astropology.plasticc import lcs_from_plasticc\n",
    "from astropology.plasticc import scores_of_target"
   ]
  },
  {
   "cell_type": "code",
   "execution_count": 129,
   "metadata": {},
   "outputs": [],
   "source": [
    "# Load data\n",
    "data_directory = \"/home/edgar/astropology/data\"\n",
    "matrix_directory = f\"{data_directory}/no_mask\"\n",
    "\n",
    "# distance definition\n",
    "band = \"g_band\"\n",
    "norm = \"max\"\n",
    "fname = f\"series_7848_norm_{norm}_{band}\"\n",
    "\n",
    "if \"no_mask\" not in matrix_directory:\n",
    "    \n",
    "    fname = f\"{fname}_mask_negative\"\n",
    "\n",
    "b_dist = np.load(\n",
    "    f\"{matrix_directory}/bottleneck_{fname}.npy\",\n",
    "    mmap_mode=\"r\"\n",
    ")\n",
    "w_dist = np.load(\n",
    "    f\"{matrix_directory}/wasserstein_{fname}.npy\",\n",
    "    mmap_mode=\"r\"\n",
    ")\n",
    "\n",
    "# load map from idx to objectid\n",
    "idx_id_b_dist = np.load(\n",
    "    f\"{matrix_directory}/objid_bottleneck_{fname}.npy\",\n",
    "    mmap_mode=\"r\",\n",
    "    \n",
    ").astype(int)\n",
    "\n",
    "idx_id_w_dist = np.load(\n",
    "    f\"{matrix_directory}/objid_wasserstein_{fname}.npy\",\n",
    "    mmap_mode=\"r\"\n",
    ").astype(int)\n",
    "\n",
    "n_series = w_dist.shape[0]"
   ]
  },
  {
   "cell_type": "code",
   "execution_count": 130,
   "metadata": {},
   "outputs": [],
   "source": [
    "lcs = pd.read_csv(\n",
    "    f\"{data_directory}/plasticc_train_lightcurves.csv.gz\",\n",
    ")\n",
    "meta_data = pd.read_csv(\n",
    "    f\"{data_directory}/plasticc_train_metadata.csv.gz\",\n",
    "    index_col=\"object_id\"\n",
    ")"
   ]
  },
  {
   "cell_type": "markdown",
   "metadata": {},
   "source": [
    "# Explore distribution of mean distance"
   ]
  },
  {
   "cell_type": "code",
   "execution_count": 131,
   "metadata": {},
   "outputs": [],
   "source": [
    "b_score = np.nanmean(b_dist, axis=1)\n",
    "b_score *= 1/np.nanmax(b_score)\n",
    "\n",
    "w_score = np.nanmean(w_dist, axis=1)\n",
    "w_score *= 1/np.nanmax(w_score)"
   ]
  },
  {
   "cell_type": "code",
   "execution_count": 132,
   "metadata": {},
   "outputs": [],
   "source": [
    "quantiles = [0.25, 0.5, 0.75, 0.8, 0.9, 0.95, 0.99]"
   ]
  },
  {
   "cell_type": "markdown",
   "metadata": {},
   "source": [
    "Wasserstein distance"
   ]
  },
  {
   "cell_type": "code",
   "execution_count": 133,
   "metadata": {},
   "outputs": [
    {
     "name": "stdout",
     "output_type": "stream",
     "text": [
      "wdist: 25% -> 8.1382e-02 \tbdist: 25% -> 3.6652e-01\n",
      "wdist: 50% -> 9.4885e-02 \tbdist: 50% -> 4.6282e-01\n",
      "wdist: 75% -> 1.1726e-01 \tbdist: 75% -> 4.9402e-01\n",
      "wdist: 80% -> 1.2670e-01 \tbdist: 80% -> 5.1687e-01\n",
      "wdist: 90% -> 1.7877e-01 \tbdist: 90% -> 6.0069e-01\n",
      "wdist: 95% -> 2.7584e-01 \tbdist: 95% -> 6.7786e-01\n",
      "wdist: 99% -> 4.4139e-01 \tbdist: 99% -> 8.0721e-01\n"
     ]
    }
   ],
   "source": [
    "q_w_score = np.quantile(w_score, q=quantiles)\n",
    "q_b_score = np.quantile(b_score, q=quantiles)\n",
    "\n",
    "for idx, q in enumerate(quantiles):\n",
    "\n",
    "    print(\n",
    "        f\"wdist: {int(q*100)}% -> {q_w_score[idx]:.4e} \\t\"\n",
    "        f\"bdist: {int(q*100)}% -> {q_b_score[idx]:.4e}\"\n",
    "    )"
   ]
  },
  {
   "cell_type": "code",
   "execution_count": 134,
   "metadata": {},
   "outputs": [
    {
     "data": {
      "image/png": "[encoded data removed]",
      "text/plain": [
       "<Figure size 1080x432 with 2 Axes>"
      ]
     },
     "metadata": {
      "needs_background": "light"
     },
     "output_type": "display_data"
    }
   ],
   "source": [
    "fig, axs = plt.subplots(nrows=1, ncols=2, sharey=True, figsize=(15, 6))\n",
    "\n",
    "max = 1e-0\n",
    "\n",
    "fig.suptitle(f\"Normalization: {norm}\")\n",
    "_ = axs[0].hist(\n",
    "    w_score, bins=50, range=(np.nanmin(w_score), max),\n",
    "    label=\"Wasserstein\",\n",
    ")\n",
    "_ = axs[1].hist(\n",
    "    b_score, bins=50, range=(np.nanmin(b_score), max),\n",
    "    label=\"Bottleneck\",\n",
    "    # color=\"red\", alpha=0.5,\n",
    ")\n",
    "\n",
    "for ax in axs:\n",
    "    # ax.set_xscale(\"log\")\n",
    "    ax.ticklabel_format(axis=\"x\", style=\"sci\", scilimits=(-4, 0))\n",
    "    ax.set_yscale(\"log\")\n",
    "    ax.legend()"
   ]
  },
  {
   "cell_type": "code",
   "execution_count": 111,
   "metadata": {},
   "outputs": [
    {
     "data": {
      "image/png": "[encoded data removed]",
      "text/plain": [
       "<Figure size 1080x432 with 2 Axes>"
      ]
     },
     "metadata": {
      "needs_background": "light"
     },
     "output_type": "display_data"
    }
   ],
   "source": [
    "fig, axs = plt.subplots(nrows=1, ncols=2, sharey=True, figsize=(15, 6))\n",
    "n_bins = 50\n",
    "max = 1e-0\n",
    "\n",
    "_ = axs[0].hist(\n",
    "    w_score, bins=n_bins, range=(np.nanmin(w_score), max),\n",
    "    label=\"Wasserstein\",\n",
    ")\n",
    "\n",
    "\n",
    "_ = axs[1].hist(\n",
    "    b_score, bins=n_bins, range=(np.nanmin(b_score), max),\n",
    "    label=\"Bottleneck\",\n",
    "    # color=\"red\", alpha=0.5,\n",
    ")\n",
    "\n",
    "for target in [64]:\n",
    "\n",
    "    w_score_target = scores_of_target(\n",
    "        target, w_score, meta_data, idx_id_w_dist\n",
    "    )\n",
    "\n",
    "    _ = axs[0].hist(\n",
    "        w_score_target, bins=n_bins, range=(np.nanmin(w_score), max),\n",
    "        label=CLASSES[target],\n",
    "    )\n",
    "\n",
    "    b_score_target = scores_of_target(\n",
    "        target, b_score, meta_data, idx_id_b_dist\n",
    "    )\n",
    "\n",
    "    _ = axs[1].hist(\n",
    "        b_score_target, bins=n_bins, range=(np.nanmin(b_score), max),\n",
    "        label=CLASSES[target],\n",
    "    )\n",
    "\n",
    "for ax in axs:\n",
    "    # ax.set_xscale(\"log\")\n",
    "    ax.ticklabel_format(axis=\"x\", style=\"sci\", scilimits=(-4, 0))\n",
    "    ax.set_yscale(\"log\")\n",
    "    ax.legend()"
   ]
  },
  {
   "cell_type": "markdown",
   "metadata": {},
   "source": [
    "Bottleneck distance"
   ]
  },
  {
   "cell_type": "markdown",
   "metadata": {},
   "source": [
    "# Explore anomalies and compare"
   ]
  },
  {
   "cell_type": "code",
   "execution_count": 112,
   "metadata": {},
   "outputs": [],
   "source": [
    "lcs, mjds = lcs_from_plasticc(raw_df=lcs, passband=\"g\")"
   ]
  },
  {
   "cell_type": "code",
   "execution_count": 113,
   "metadata": {},
   "outputs": [],
   "source": [
    "rank_w = np.argsort(w_score)\n",
    "rank_b = np.argsort(b_score)"
   ]
  },
  {
   "cell_type": "code",
   "execution_count": 114,
   "metadata": {},
   "outputs": [],
   "source": [
    "from astropology.plasticc import rank_to_object_id"
   ]
  },
  {
   "cell_type": "code",
   "execution_count": 115,
   "metadata": {},
   "outputs": [
    {
     "data": {
      "text/plain": [
       "<matplotlib.collections.PathCollection at 0x7f74a85c2440>"
      ]
     },
     "execution_count": 115,
     "metadata": {},
     "output_type": "execute_result"
    },
    {
     "data": {
      "image/png": "[encoded data removed]",
      "text/plain": [
       "<Figure size 432x288 with 1 Axes>"
      ]
     },
     "metadata": {
      "needs_background": "light"
     },
     "output_type": "display_data"
    }
   ],
   "source": [
    "rank = -7\n",
    "object_id = rank_to_object_id(rank, w_score, idx_id_w_dist)\n",
    "# mask_negative = lcs[tata] >= 0\n",
    "# plt.scatter(mjds[tata][mask_negative], lcs[tata][mask_negative])\n",
    "plt.scatter(mjds[object_id], lcs[object_id])"
   ]
  },
  {
   "cell_type": "markdown",
   "metadata": {},
   "source": [
    "Wasserstein vs Bottleneck"
   ]
  },
  {
   "cell_type": "code",
   "execution_count": 116,
   "metadata": {},
   "outputs": [
    {
     "data": {
      "image/png": "[encoded data removed]",
      "text/plain": [
       "<Figure size 432x288 with 1 Axes>"
      ]
     },
     "metadata": {
      "needs_background": "light"
     },
     "output_type": "display_data"
    }
   ],
   "source": [
    "fig, ax = plt.subplots(tight_layout=True)\n",
    "\n",
    "save_to = \"/home/edgar/astropology/img/\"\n",
    "\n",
    "if \"no_mask\" in matrix_directory:\n",
    "    save_to = f\"/home/edgar/astropology/img/no_mask/{norm}\"\n",
    "else:\n",
    "    save_to = f\"/home/edgar/astropology/img/mask/{norm}\"\n",
    "\n",
    "if os.path.exists(save_to) is False:\n",
    "    os.makedirs(f\"{save_to}/bottleneck\")\n",
    "    os.makedirs(f\"{save_to}/wasserstein\")\n",
    "\n",
    "for rank in range(1, 101):\n",
    "\n",
    "    object_id = rank_to_object_id(-rank, b_score, idx_id_b_dist)\n",
    "    target = meta_data.loc[object_id, \"target\"]\n",
    "    ax.clear()\n",
    "\n",
    "    fig.suptitle(f\"[{rank}] {CLASSES[target]}\")\n",
    "    ax.set_xlabel(\"MJD\")\n",
    "    ax.set_ylabel(f\"{band} flux\")\n",
    "\n",
    "\n",
    "    ax.scatter(mjds[object_id], lcs[object_id])\n",
    "    \n",
    "    fig.savefig(f\"{save_to}/bottleneck/{rank:03d}_bottleneck_{norm}_{band}.pdf\")\n",
    "\n",
    "for rank in range(1, 101):\n",
    "\n",
    "    object_id = rank_to_object_id(-rank, w_score, idx_id_w_dist)\n",
    "    target = meta_data.loc[object_id, \"target\"]\n",
    "    ax.clear()\n",
    "\n",
    "    fig.suptitle(f\"[{rank}] {CLASSES[target]}\")\n",
    "    ax.set_xlabel(\"MJD\")\n",
    "    ax.set_ylabel(f\"{band} flux\")\n",
    "    ax.scatter(mjds[object_id], lcs[object_id])\n",
    "    fig.savefig(f\"{save_to}/wasserstein/{rank:03d}_wasserstein_{norm}_{band}.pdf\")"
   ]
  },
  {
   "cell_type": "code",
   "execution_count": null,
   "metadata": {},
   "outputs": [],
   "source": []
  }
 ],
 "metadata": {
  "kernelspec": {
   "display_name": "Python 3.10.4 64-bit",
   "language": "python",
   "name": "python3"
  },
  "language_info": {
   "codemirror_mode": {
    "name": "ipython",
    "version": 3
   },
   "file_extension": ".py",
   "mimetype": "text/x-python",
   "name": "python",
   "nbconvert_exporter": "python",
   "pygments_lexer": "ipython3",
   "version": "3.10.6"
  },
  "orig_nbformat": 4,
  "vscode": {
   "interpreter": {
    "hash": "916dbcbb3f70747c44a77c7bcd40155683ae19c65e1c03b4aa3499c5328201f1"
   }
  }
 },
 "nbformat": 4,
 "nbformat_minor": 2
}
