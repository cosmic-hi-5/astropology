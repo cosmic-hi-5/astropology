{
 "cells": [
  {
   "cell_type": "code",
   "execution_count": 1,
   "metadata": {},
   "outputs": [],
   "source": [
    "%load_ext autoreload\n",
    "%autoreload 2"
   ]
  },
  {
   "cell_type": "code",
   "execution_count": 2,
   "metadata": {},
   "outputs": [],
   "source": [
    "import matplotlib.pyplot as plt\n",
    "import numpy as np\n",
    "from persim import plot_diagrams\n",
    "\n",
    "import warnings\n",
    "warnings.filterwarnings('ignore')"
   ]
  },
  {
   "cell_type": "code",
   "execution_count": 3,
   "metadata": {},
   "outputs": [],
   "source": [
    "from astropology.distance import bottleneck_distance, wasserstein_distance\n",
    "from astropology.series import pd_from_distance_matrix\n",
    "from astropology.series import sparse_matrix_serie\n"
   ]
  },
  {
   "cell_type": "code",
   "execution_count": 4,
   "metadata": {},
   "outputs": [],
   "source": [
    "def add_noise(y: np.array, noise_amplitudes: np.array) -> np.array:\n",
    "\n",
    "    n_points = y.size\n",
    "    n_entries = noise_amplitudes.size\n",
    "    \n",
    "    y_noisy = np.empty((n_entries, n_points))\n",
    "\n",
    "    for idx, y_noise in enumerate(y_noisy):\n",
    "        y_noise[:] = noise_amplitudes[idx] * np.random.randn(n_points)\n",
    "\n",
    "    return y_noisy"
   ]
  },
  {
   "cell_type": "code",
   "execution_count": 5,
   "metadata": {},
   "outputs": [],
   "source": [
    "n_points = 2000\n",
    "t = np.linspace(0, 5, n_points)\n",
    "serie = np.cos(2*np.pi*t) + t\n",
    "noise_amplitudes = np.logspace(-3, 0, 100)\n",
    "noisy_series = add_noise(serie, noise_amplitudes)"
   ]
  },
  {
   "cell_type": "code",
   "execution_count": 6,
   "metadata": {},
   "outputs": [],
   "source": [
    "# dm -> distance_matrix\n",
    "w_distances = []\n",
    "b_distances = []\n",
    "\n",
    "dm_a = sparse_matrix_serie(serie)\n",
    "pdgm_a = pd_from_distance_matrix(dm_a)\n",
    "\n",
    "for noisy_serie in noisy_series:\n",
    "    dm_b = sparse_matrix_serie(noisy_serie)\n",
    "    pdgm_b = pd_from_distance_matrix(dm_b)\n",
    "    w_distances.append(wasserstein_distance(pdgm_a, pdgm_b))\n",
    "    b_distances.append(bottleneck_distance(pdgm_a, pdgm_b))"
   ]
  },
  {
   "cell_type": "code",
   "execution_count": 21,
   "metadata": {},
   "outputs": [
    {
     "data": {
      "text/plain": [
       "[<matplotlib.lines.Line2D at 0x7fccae3e6230>]"
      ]
     },
     "execution_count": 21,
     "metadata": {},
     "output_type": "execute_result"
    },
    {
     "data": {
      "image/png": "[encoded data removed]",
      "text/plain": [
       "<Figure size 432x288 with 1 Axes>"
      ]
     },
     "metadata": {
      "needs_background": "light"
     },
     "output_type": "display_data"
    }
   ],
   "source": [
    "fig, ax = plt.subplots()\n",
    "# ax.set_xscale('log')\n",
    "# ax.set_yscale('log')\n",
    "ax.plot(noise_amplitudes, b_distances)\n",
    "# ax.plot(noise_amplitudes, w_distances)\n"
   ]
  },
  {
   "cell_type": "code",
   "execution_count": null,
   "metadata": {},
   "outputs": [],
   "source": []
  }
 ],
 "metadata": {
  "kernelspec": {
   "display_name": "Python 3.10.4 64-bit",
   "language": "python",
   "name": "python3"
  },
  "language_info": {
   "codemirror_mode": {
    "name": "ipython",
    "version": 3
   },
   "file_extension": ".py",
   "mimetype": "text/x-python",
   "name": "python",
   "nbconvert_exporter": "python",
   "pygments_lexer": "ipython3",
   "version": "3.10.4"
  },
  "orig_nbformat": 4,
  "vscode": {
   "interpreter": {
    "hash": "916dbcbb3f70747c44a77c7bcd40155683ae19c65e1c03b4aa3499c5328201f1"
   }
  }
 },
 "nbformat": 4,
 "nbformat_minor": 2
}
