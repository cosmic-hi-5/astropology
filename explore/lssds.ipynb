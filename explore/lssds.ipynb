{
 "cells": [
  {
   "cell_type": "markdown",
   "metadata": {},
   "source": [
    "# Test and refine code from LSSDS project to add in astropology library"
   ]
  },
  {
   "cell_type": "code",
   "execution_count": 6,
   "metadata": {},
   "outputs": [],
   "source": [
    "import matplotlib.pyplot as plt\n",
    "import numpy as np"
   ]
  },
  {
   "cell_type": "code",
   "execution_count": 3,
   "metadata": {},
   "outputs": [],
   "source": [
    "# Xiansxu function\n",
    "def getTimeSeries(perfunc, ### function to generate the signal\n",
    "                  per, ### period\n",
    "                  n,   ### number of sample points\n",
    "                  sigma2, ### variance of the signal points\n",
    "                  meandt, ### mean sample time, in units of period per\n",
    "                  iregular_sample_dt): ### iregular sampling time [0,1]\n",
    "                  \n",
    "    if (n*meandt)<1:\n",
    "        print('Warning: the signal lasts less than one period')\n",
    "\n",
    "    if iregular_sample_dt == 0.0:\n",
    "        regular_sample = True\n",
    "        dt=np.ones(n)*meandt*per\n",
    "    else:\n",
    "        dt=(np.ones(n)+np.random.randn(n)*iregular_sample_dt)*meandt*per\n",
    "        regular_sample = False\n",
    "    t=np.cumsum(dt)\n",
    "    signal=perfunc(t,per)+np.random.randn(n)*np.sqrt(sigma2)\n",
    "    return t,signal,regular_sample \n",
    "\n",
    "def sin(t,per,amplitude=5):\n",
    "    w=2*np.pi/per\n",
    "    return amplitude*np.sin(w*t)+amplitude"
   ]
  },
  {
   "cell_type": "code",
   "execution_count": 28,
   "metadata": {},
   "outputs": [],
   "source": [
    "n = 1000\n",
    "per=2*np.pi ### keep this fixed\n",
    "meandt=0.01 \n",
    "\n",
    "t,y_control_sigma,regular_sample=getTimeSeries(sin, per, n, 0, meandt, 0.1)\n",
    "sigma2_test=np.logspace(np.log10(0.01),np.log10(25),30)    ### variance of data points\n",
    "\n",
    "# persistence_diagram_sigma2_control=persistence_diagram(y_control_sigma)\n",
    "\n",
    "# plot_diagrams(persistence_diagram_sigma2_control)"
   ]
  },
  {
   "cell_type": "code",
   "execution_count": 34,
   "metadata": {},
   "outputs": [
    {
     "name": "stdout",
     "output_type": "stream",
     "text": [
      "[ 0.05815877  0.13871918 -0.02782143  0.04059542 -0.01999504  0.0567227\n",
      "  0.13483559  0.11037905  0.02255038 -0.00261493]\n",
      "[0.05815877 0.19687795 0.16905652 0.20965193 0.1896569  0.24637959\n",
      " 0.38121519 0.49159424 0.51414461 0.51152968]\n"
     ]
    }
   ],
   "source": [
    "dt=(np.ones(10)+np.random.randn(10)*1.)*meandt*per\n",
    "t = np.cumsum(dt)\n",
    "print(dt)\n",
    "print(t)"
   ]
  },
  {
   "cell_type": "code",
   "execution_count": 17,
   "metadata": {},
   "outputs": [],
   "source": [
    "tata = []\n",
    "for sigma2 in sigma2_test:\n",
    "\n",
    "    _,y_sigma,_=getTimeSeries(sin, per, n, sigma2, meandt, 0.0)\n",
    "    tata.append(y_sigma)"
   ]
  },
  {
   "cell_type": "code",
   "execution_count": 27,
   "metadata": {},
   "outputs": [
    {
     "data": {
      "text/plain": [
       "array([62.58052566, 62.64335751, 62.70618937, 62.76902122, 62.83185307])"
      ]
     },
     "execution_count": 27,
     "metadata": {},
     "output_type": "execute_result"
    }
   ],
   "source": [
    "t[-5:]"
   ]
  },
  {
   "cell_type": "code",
   "execution_count": 35,
   "metadata": {},
   "outputs": [],
   "source": [
    "from astropology.simulate import time_series"
   ]
  },
  {
   "cell_type": "code",
   "execution_count": 36,
   "metadata": {},
   "outputs": [],
   "source": [
    "tata = time_series(sin, per, n, 0, meandt, 0)"
   ]
  },
  {
   "cell_type": "code",
   "execution_count": 37,
   "metadata": {},
   "outputs": [
    {
     "data": {
      "text/plain": [
       "[<matplotlib.lines.Line2D at 0x7f6a50988130>]"
      ]
     },
     "execution_count": 37,
     "metadata": {},
     "output_type": "execute_result"
    },
    {
     "data": {
      "image/png": "[encoded data removed]",
      "text/plain": [
       "<Figure size 432x288 with 1 Axes>"
      ]
     },
     "metadata": {
      "needs_background": "light"
     },
     "output_type": "display_data"
    }
   ],
   "source": [
    "plt.plot(tata[0], tata[1])"
   ]
  },
  {
   "cell_type": "code",
   "execution_count": null,
   "metadata": {},
   "outputs": [],
   "source": []
  }
 ],
 "metadata": {
  "kernelspec": {
   "display_name": "Python 3.10.4 64-bit",
   "language": "python",
   "name": "python3"
  },
  "language_info": {
   "codemirror_mode": {
    "name": "ipython",
    "version": 3
   },
   "file_extension": ".py",
   "mimetype": "text/x-python",
   "name": "python",
   "nbconvert_exporter": "python",
   "pygments_lexer": "ipython3",
   "version": "3.10.4"
  },
  "orig_nbformat": 4,
  "vscode": {
   "interpreter": {
    "hash": "916dbcbb3f70747c44a77c7bcd40155683ae19c65e1c03b4aa3499c5328201f1"
   }
  }
 },
 "nbformat": 4,
 "nbformat_minor": 2
}
