{
 "cells": [
  {
   "cell_type": "code",
   "execution_count": 1,
   "metadata": {},
   "outputs": [],
   "source": [
    "# %load_ext autoreload\n",
    "# %autoreload 2"
   ]
  },
  {
   "cell_type": "code",
   "execution_count": 1,
   "metadata": {},
   "outputs": [],
   "source": [
    "import matplotlib.pyplot as plt\n",
    "import numpy as np\n",
    "import pandas as pd\n",
    "from persim import plot_diagrams\n",
    "\n",
    "import warnings\n",
    "warnings.filterwarnings(\"ignore\")"
   ]
  },
  {
   "cell_type": "code",
   "execution_count": 2,
   "metadata": {},
   "outputs": [],
   "source": [
    "data_directory = \"/home/edgar/astropology/data/\"\n",
    "\n",
    "lcs = pd.read_csv(\n",
    "    f\"{data_directory}/plasticc_train_lightcurves.csv.gz\",\n",
    ")\n",
    "meta_data = pd.read_csv(\n",
    "    f\"{data_directory}/plasticc_train_metadata.csv.gz\",\n",
    ")"
   ]
  },
  {
   "cell_type": "code",
   "execution_count": 3,
   "metadata": {},
   "outputs": [
    {
     "data": {
      "text/html": [
       "<div>\n",
       "<style scoped>\n",
       "    .dataframe tbody tr th:only-of-type {\n",
       "        vertical-align: middle;\n",
       "    }\n",
       "\n",
       "    .dataframe tbody tr th {\n",
       "        vertical-align: top;\n",
       "    }\n",
       "\n",
       "    .dataframe thead th {\n",
       "        text-align: right;\n",
       "    }\n",
       "</style>\n",
       "<table border=\"1\" class=\"dataframe\">\n",
       "  <thead>\n",
       "    <tr style=\"text-align: right;\">\n",
       "      <th></th>\n",
       "      <th>object_id</th>\n",
       "      <th>mjd</th>\n",
       "      <th>passband</th>\n",
       "      <th>flux</th>\n",
       "      <th>flux_err</th>\n",
       "      <th>detected_bool</th>\n",
       "    </tr>\n",
       "  </thead>\n",
       "  <tbody>\n",
       "    <tr>\n",
       "      <th>0</th>\n",
       "      <td>615</td>\n",
       "      <td>59750.4229</td>\n",
       "      <td>2</td>\n",
       "      <td>-544.810303</td>\n",
       "      <td>3.622952</td>\n",
       "      <td>1</td>\n",
       "    </tr>\n",
       "    <tr>\n",
       "      <th>1</th>\n",
       "      <td>615</td>\n",
       "      <td>59750.4306</td>\n",
       "      <td>1</td>\n",
       "      <td>-816.434326</td>\n",
       "      <td>5.553370</td>\n",
       "      <td>1</td>\n",
       "    </tr>\n",
       "    <tr>\n",
       "      <th>2</th>\n",
       "      <td>615</td>\n",
       "      <td>59750.4383</td>\n",
       "      <td>3</td>\n",
       "      <td>-471.385529</td>\n",
       "      <td>3.801213</td>\n",
       "      <td>1</td>\n",
       "    </tr>\n",
       "    <tr>\n",
       "      <th>3</th>\n",
       "      <td>615</td>\n",
       "      <td>59750.4450</td>\n",
       "      <td>4</td>\n",
       "      <td>-388.984985</td>\n",
       "      <td>11.395031</td>\n",
       "      <td>1</td>\n",
       "    </tr>\n",
       "    <tr>\n",
       "      <th>4</th>\n",
       "      <td>615</td>\n",
       "      <td>59752.4070</td>\n",
       "      <td>2</td>\n",
       "      <td>-681.858887</td>\n",
       "      <td>4.041204</td>\n",
       "      <td>1</td>\n",
       "    </tr>\n",
       "  </tbody>\n",
       "</table>\n",
       "</div>"
      ],
      "text/plain": [
       "   object_id         mjd  passband        flux   flux_err  detected_bool\n",
       "0        615  59750.4229         2 -544.810303   3.622952              1\n",
       "1        615  59750.4306         1 -816.434326   5.553370              1\n",
       "2        615  59750.4383         3 -471.385529   3.801213              1\n",
       "3        615  59750.4450         4 -388.984985  11.395031              1\n",
       "4        615  59752.4070         2 -681.858887   4.041204              1"
      ]
     },
     "execution_count": 3,
     "metadata": {},
     "output_type": "execute_result"
    }
   ],
   "source": [
    "lcs.head()\n",
    "# lcs.shape\n",
    "# np.unique(lcs[\"detected_bool\"])\n",
    "# np.sum(lcs[\"detected_bool\"]==1), np.sum(lcs[\"detected_bool\"]==0)"
   ]
  },
  {
   "cell_type": "code",
   "execution_count": 4,
   "metadata": {},
   "outputs": [
    {
     "name": "stdout",
     "output_type": "stream",
     "text": [
      "(197493, 6) (176499, 6) (238049, 6) (233520, 6) (277119, 6) (299025, 6)\n"
     ]
    }
   ],
   "source": [
    "u_band = lcs[lcs['passband']==0]\n",
    "g_band = lcs[lcs['passband']==1]\n",
    "r_band = lcs[lcs['passband']==2]\n",
    "i_band = lcs[lcs['passband']==3]\n",
    "z_band = lcs[lcs['passband']==4]\n",
    "y_band = lcs[lcs['passband']==5]\n",
    "\n",
    "print(\n",
    "    u_band.shape, g_band.shape, r_band.shape,\n",
    "    i_band.shape, z_band.shape, y_band.shape\n",
    ")"
   ]
  },
  {
   "cell_type": "code",
   "execution_count": 5,
   "metadata": {},
   "outputs": [
    {
     "name": "stdout",
     "output_type": "stream",
     "text": [
      "17589\n",
      "179904\n"
     ]
    }
   ],
   "source": [
    "np.unique(u_band['object_id']).shape\n",
    "for object_id in np.unique(u_band['object_id']):\n",
    "\n",
    "    id_mask = object_id == u_band['object_id']\n",
    "    print(np.sum(u_band[\"detected_bool\"]==1))\n",
    "    print(np.sum(u_band[\"detected_bool\"]==0))\n",
    "    break"
   ]
  },
  {
   "cell_type": "code",
   "execution_count": 6,
   "metadata": {},
   "outputs": [],
   "source": [
    "u_lcs = {}\n",
    "u_lcs_mjd = {}\n",
    "for object_id in np.unique(u_band['object_id']):\n",
    "    \n",
    "    id_mask = object_id == u_band['object_id']\n",
    "\n",
    "    u_lcs[f\"{object_id}\"] = u_band.loc[id_mask, \"flux\"].to_numpy()\n",
    "    u_lcs_mjd[f\"{object_id}\"] = u_band.loc[id_mask, \"mjd\"].to_numpy()"
   ]
  },
  {
   "cell_type": "code",
   "execution_count": 80,
   "metadata": {},
   "outputs": [],
   "source": [
    "# set to zero negative values\n",
    "for _, value in u_lcs.items():\n",
    "    \n",
    "    value[value < 0] = 0"
   ]
  },
  {
   "cell_type": "code",
   "execution_count": 79,
   "metadata": {},
   "outputs": [
    {
     "data": {
      "text/plain": [
       "<matplotlib.collections.PathCollection at 0x7f86bc5cd480>"
      ]
     },
     "execution_count": 79,
     "metadata": {},
     "output_type": "execute_result"
    },
    {
     "data": {
      "image/png": "[encoded data removed]",
      "text/plain": [
       "<Figure size 640x480 with 1 Axes>"
      ]
     },
     "metadata": {},
     "output_type": "display_data"
    }
   ],
   "source": [
    "plt.scatter(u_lcs_mjd[\"615\"], u_lcs[\"615\"])"
   ]
  },
  {
   "cell_type": "code",
   "execution_count": 11,
   "metadata": {},
   "outputs": [
    {
     "data": {
      "text/plain": [
       "7848"
      ]
     },
     "execution_count": 11,
     "metadata": {},
     "output_type": "execute_result"
    }
   ],
   "source": [
    "len(u_lcs)"
   ]
  },
  {
   "cell_type": "code",
   "execution_count": 7,
   "metadata": {},
   "outputs": [],
   "source": [
    "from astropology.distance import pair_wise_distance_matrix\n",
    "from astropology.series import pd_time_series"
   ]
  },
  {
   "cell_type": "code",
   "execution_count": 8,
   "metadata": {},
   "outputs": [],
   "source": [
    "pdgm_lcs = []\n",
    "pdgm_lcs_normalized = []\n",
    "idx_objid = {}\n",
    "for idx, (object_id, lc) in enumerate(u_lcs.items()):\n",
    "\n",
    "    idx_objid[f\"{idx}\"] = object_id\n",
    "    \n",
    "    pdgm = pd_time_series(lc)\n",
    "    pdgm_lcs.append(pdgm)\n",
    "    \n",
    "    lc_normalized = lc / np.nanmean(lc)\n",
    "    pdgm_normalized = pd_time_series(lc_normalized)\n",
    "    pdgm_lcs_normalized.append(pdgm_normalized)"
   ]
  },
  {
   "cell_type": "code",
   "execution_count": 12,
   "metadata": {},
   "outputs": [],
   "source": [
    "from astropology.distance import bottleneck_distance\n",
    "pdgm_i = pdgm_lcs[97]\n",
    "pdgm_j = pdgm_lcs[4998]\n",
    "pdgm_i = pdgm_i[np.isfinite(pdgm_i[:, 1]), :]\n",
    "pdgm_j = pdgm_j[np.isfinite(pdgm_j[:, 1]), :]\n",
    "\n",
    "tata = bottleneck_distance(pdgm_lcs[97], pdgm_lcs[4999])"
   ]
  },
  {
   "cell_type": "code",
   "execution_count": 107,
   "metadata": {},
   "outputs": [
    {
     "name": "stdout",
     "output_type": "stream",
     "text": [
      "CPU times: user 1min 9s, sys: 3.98 ms, total: 1min 9s\n",
      "Wall time: 1min 9s\n"
     ]
    }
   ],
   "source": [
    "%%time\n",
    "w_matrix = pair_wise_distance_matrix(\n",
    "    pdgm_lcs[:1_000], distance=\"wasserstein\"\n",
    ") "
   ]
  },
  {
   "cell_type": "code",
   "execution_count": 108,
   "metadata": {},
   "outputs": [
    {
     "name": "stdout",
     "output_type": "stream",
     "text": [
      "CPU times: user 1min 9s, sys: 4 ms, total: 1min 9s\n",
      "Wall time: 1min 9s\n"
     ]
    }
   ],
   "source": [
    "%%time\n",
    "w_matrix_normalized = pair_wise_distance_matrix(\n",
    "    pdgm_lcs_normalized[:1_000], distance=\"wasserstein\"\n",
    ") "
   ]
  },
  {
   "cell_type": "code",
   "execution_count": 109,
   "metadata": {},
   "outputs": [],
   "source": [
    "w_similarity = np.mean(w_matrix, axis=1)\n",
    "anomaly_rank = np.argsort(w_similarity)\n",
    "normalized_w_similarity = np.mean(w_matrix_normalized, axis=1)\n",
    "normalized_anomaly_rank = np.argsort(normalized_w_similarity)"
   ]
  },
  {
   "cell_type": "code",
   "execution_count": 110,
   "metadata": {},
   "outputs": [
    {
     "data": {
      "image/png": "[encoded data removed]",
      "text/plain": [
       "<Figure size 1000x500 with 2 Axes>"
      ]
     },
     "metadata": {},
     "output_type": "display_data"
    }
   ],
   "source": [
    "fig, axs = plt.subplots(1, 2, figsize=(10, 5))\n",
    "_ = axs[0].hist(\n",
    "    w_similarity/w_similarity.max(),\n",
    "    bins=100\n",
    ")\n",
    "_ = axs[1].hist(\n",
    "    normalized_w_similarity/normalized_w_similarity.max(),\n",
    "    bins=100\n",
    ")\n",
    "_ = [ax.set_xscale('log') for ax in axs]\n",
    "_ = [ax.set_yscale('log') for ax in axs]\n"
   ]
  },
  {
   "cell_type": "code",
   "execution_count": 111,
   "metadata": {},
   "outputs": [
    {
     "data": {
      "image/png": "[encoded data removed]",
      "text/plain": [
       "<Figure size 640x480 with 1 Axes>"
      ]
     },
     "metadata": {},
     "output_type": "display_data"
    }
   ],
   "source": [
    "rank = -1\n",
    "plot_diagrams(pdgm_lcs[anomaly_rank[rank]])\n",
    "plot_diagrams(pdgm_lcs_normalized[normalized_anomaly_rank[rank]])\n"
   ]
  },
  {
   "cell_type": "code",
   "execution_count": 99,
   "metadata": {},
   "outputs": [
    {
     "name": "stdout",
     "output_type": "stream",
     "text": [
      "61407\n"
     ]
    },
    {
     "data": {
      "text/plain": [
       "<matplotlib.collections.PathCollection at 0x7f86b7ac6b00>"
      ]
     },
     "execution_count": 99,
     "metadata": {},
     "output_type": "execute_result"
    },
    {
     "data": {
      "image/png": "[encoded data removed]",
      "text/plain": [
       "<Figure size 640x480 with 1 Axes>"
      ]
     },
     "metadata": {},
     "output_type": "display_data"
    }
   ],
   "source": [
    "object_id = idx_objid[f\"{anomaly_rank[-10]}\"]\n",
    "print(object_id)\n",
    "lc = u_lcs[object_id]\n",
    "mjd = u_lcs_mjd[object_id]\n",
    "plt.scatter(mjd, lc)"
   ]
  },
  {
   "cell_type": "code",
   "execution_count": 112,
   "metadata": {},
   "outputs": [
    {
     "name": "stdout",
     "output_type": "stream",
     "text": [
      "110257\n"
     ]
    },
    {
     "data": {
      "text/plain": [
       "<matplotlib.collections.PathCollection at 0x7f86b7f9f610>"
      ]
     },
     "execution_count": 112,
     "metadata": {},
     "output_type": "execute_result"
    },
    {
     "data": {
      "image/png": "[encoded data removed]",
      "text/plain": [
       "<Figure size 640x480 with 1 Axes>"
      ]
     },
     "metadata": {},
     "output_type": "display_data"
    }
   ],
   "source": [
    "object_id = idx_objid[f\"{normalized_anomaly_rank[-50]}\"]\n",
    "print(object_id)\n",
    "lc = u_lcs[object_id]\n",
    "mjd = u_lcs_mjd[object_id]\n",
    "plt.scatter(mjd, lc)"
   ]
  },
  {
   "cell_type": "code",
   "execution_count": null,
   "metadata": {},
   "outputs": [],
   "source": []
  }
 ],
 "metadata": {
  "kernelspec": {
   "display_name": "Python 3.10.4 64-bit",
   "language": "python",
   "name": "python3"
  },
  "language_info": {
   "codemirror_mode": {
    "name": "ipython",
    "version": 3
   },
   "file_extension": ".py",
   "mimetype": "text/x-python",
   "name": "python",
   "nbconvert_exporter": "python",
   "pygments_lexer": "ipython3",
   "version": "3.10.4"
  },
  "orig_nbformat": 4,
  "vscode": {
   "interpreter": {
    "hash": "916dbcbb3f70747c44a77c7bcd40155683ae19c65e1c03b4aa3499c5328201f1"
   }
  }
 },
 "nbformat": 4,
 "nbformat_minor": 2
}
