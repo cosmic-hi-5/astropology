{
 "cells": [
  {
   "cell_type": "code",
   "execution_count": 1,
   "metadata": {},
   "outputs": [],
   "source": [
    "import matplotlib.pyplot as plt\n",
    "import numpy as np\n",
    "import pandas as pd"
   ]
  },
  {
   "cell_type": "code",
   "execution_count": 2,
   "metadata": {},
   "outputs": [
    {
     "data": {
      "text/html": [
       "<div>\n",
       "<style scoped>\n",
       "    .dataframe tbody tr th:only-of-type {\n",
       "        vertical-align: middle;\n",
       "    }\n",
       "\n",
       "    .dataframe tbody tr th {\n",
       "        vertical-align: top;\n",
       "    }\n",
       "\n",
       "    .dataframe thead th {\n",
       "        text-align: right;\n",
       "    }\n",
       "</style>\n",
       "<table border=\"1\" class=\"dataframe\">\n",
       "  <thead>\n",
       "    <tr style=\"text-align: right;\">\n",
       "      <th></th>\n",
       "      <th>z</th>\n",
       "      <th>snMedian</th>\n",
       "    </tr>\n",
       "  </thead>\n",
       "  <tbody>\n",
       "    <tr>\n",
       "      <th>count</th>\n",
       "      <td>870842.000000</td>\n",
       "      <td>870842.000000</td>\n",
       "    </tr>\n",
       "    <tr>\n",
       "      <th>mean</th>\n",
       "      <td>0.146700</td>\n",
       "      <td>13.089539</td>\n",
       "    </tr>\n",
       "    <tr>\n",
       "      <th>std</th>\n",
       "      <td>0.113584</td>\n",
       "      <td>7.608738</td>\n",
       "    </tr>\n",
       "    <tr>\n",
       "      <th>min</th>\n",
       "      <td>-0.011088</td>\n",
       "      <td>0.000000</td>\n",
       "    </tr>\n",
       "    <tr>\n",
       "      <th>25%</th>\n",
       "      <td>0.073625</td>\n",
       "      <td>8.002567</td>\n",
       "    </tr>\n",
       "    <tr>\n",
       "      <th>50%</th>\n",
       "      <td>0.115263</td>\n",
       "      <td>12.001455</td>\n",
       "    </tr>\n",
       "    <tr>\n",
       "      <th>75%</th>\n",
       "      <td>0.175267</td>\n",
       "      <td>16.544645</td>\n",
       "    </tr>\n",
       "    <tr>\n",
       "      <th>max</th>\n",
       "      <td>1.002166</td>\n",
       "      <td>98.863690</td>\n",
       "    </tr>\n",
       "  </tbody>\n",
       "</table>\n",
       "</div>"
      ],
      "text/plain": [
       "                   z       snMedian\n",
       "count  870842.000000  870842.000000\n",
       "mean        0.146700      13.089539\n",
       "std         0.113584       7.608738\n",
       "min        -0.011088       0.000000\n",
       "25%         0.073625       8.002567\n",
       "50%         0.115263      12.001455\n",
       "75%         0.175267      16.544645\n",
       "max         1.002166      98.863690"
      ]
     },
     "execution_count": 2,
     "metadata": {},
     "output_type": "execute_result"
    }
   ],
   "source": [
    "# directories and data\n",
    "data_directory = \"/home/edgar/astropology/data/spectra/\"\n",
    "\n",
    "meta_data_df = pd.read_csv(\n",
    "    f\"{data_directory}/galaxy_science.csv.gz\",\n",
    "    index_col=\"specobjid\"\n",
    ")\n",
    "meta_data_df[[\"z\", \"snMedian\"]].describe()"
   ]
  },
  {
   "cell_type": "code",
   "execution_count": 5,
   "metadata": {},
   "outputs": [
    {
     "data": {
      "image/png": "[encoded data removed]",
      "text/plain": [
       "<Figure size 720x360 with 2 Axes>"
      ]
     },
     "metadata": {
      "needs_background": "light"
     },
     "output_type": "display_data"
    }
   ],
   "source": [
    "z_mask = 0.01 <= meta_data_df[\"z\"].to_numpy()\n",
    "\n",
    "fig, axs = plt.subplots(nrows=1, ncols=2, figsize=(10, 5))\n",
    "\n",
    "meta_data_df.loc[z_mask, \"z\"].hist(bins=100, ax=axs[0], label=\"z\")\n",
    "meta_data_df.loc[z_mask, \"snMedian\"].hist(\n",
    "    bins=100, ax=axs[1], label=\"median SNR\"\n",
    ")\n",
    "\n",
    "meta_data_df.loc[z_mask, [\"z\", \"snMedian\"]].describe()\n",
    "for ax in axs: ax.legend()"
   ]
  },
  {
   "cell_type": "code",
   "execution_count": 6,
   "metadata": {},
   "outputs": [
    {
     "data": {
      "text/html": [
       "<div>\n",
       "<style scoped>\n",
       "    .dataframe tbody tr th:only-of-type {\n",
       "        vertical-align: middle;\n",
       "    }\n",
       "\n",
       "    .dataframe tbody tr th {\n",
       "        vertical-align: top;\n",
       "    }\n",
       "\n",
       "    .dataframe thead th {\n",
       "        text-align: right;\n",
       "    }\n",
       "</style>\n",
       "<table border=\"1\" class=\"dataframe\">\n",
       "  <thead>\n",
       "    <tr style=\"text-align: right;\">\n",
       "      <th></th>\n",
       "      <th>z</th>\n",
       "      <th>snMedian</th>\n",
       "    </tr>\n",
       "  </thead>\n",
       "  <tbody>\n",
       "    <tr>\n",
       "      <th>count</th>\n",
       "      <td>46708.000000</td>\n",
       "      <td>46708.000000</td>\n",
       "    </tr>\n",
       "    <tr>\n",
       "      <th>mean</th>\n",
       "      <td>0.125501</td>\n",
       "      <td>11.998778</td>\n",
       "    </tr>\n",
       "    <tr>\n",
       "      <th>std</th>\n",
       "      <td>0.053453</td>\n",
       "      <td>0.231369</td>\n",
       "    </tr>\n",
       "    <tr>\n",
       "      <th>min</th>\n",
       "      <td>0.010008</td>\n",
       "      <td>11.600020</td>\n",
       "    </tr>\n",
       "    <tr>\n",
       "      <th>25%</th>\n",
       "      <td>0.085261</td>\n",
       "      <td>11.798707</td>\n",
       "    </tr>\n",
       "    <tr>\n",
       "      <th>50%</th>\n",
       "      <td>0.124479</td>\n",
       "      <td>11.998140</td>\n",
       "    </tr>\n",
       "    <tr>\n",
       "      <th>75%</th>\n",
       "      <td>0.161636</td>\n",
       "      <td>12.198898</td>\n",
       "    </tr>\n",
       "    <tr>\n",
       "      <th>max</th>\n",
       "      <td>0.981420</td>\n",
       "      <td>12.399950</td>\n",
       "    </tr>\n",
       "  </tbody>\n",
       "</table>\n",
       "</div>"
      ],
      "text/plain": [
       "                  z      snMedian\n",
       "count  46708.000000  46708.000000\n",
       "mean       0.125501     11.998778\n",
       "std        0.053453      0.231369\n",
       "min        0.010008     11.600020\n",
       "25%        0.085261     11.798707\n",
       "50%        0.124479     11.998140\n",
       "75%        0.161636     12.198898\n",
       "max        0.981420     12.399950"
      ]
     },
     "execution_count": 6,
     "metadata": {},
     "output_type": "execute_result"
    },
    {
     "data": {
      "image/png": "[encoded data removed]",
      "text/plain": [
       "<Figure size 720x360 with 2 Axes>"
      ]
     },
     "metadata": {
      "needs_background": "light"
     },
     "output_type": "display_data"
    }
   ],
   "source": [
    "snr_mask = np.logical_and(\n",
    "    11.6 < meta_data_df[\"snMedian\"], meta_data_df[\"snMedian\"] < 12.4\n",
    ")\n",
    "mask = snr_mask * z_mask\n",
    "fig, axs = plt.subplots(nrows=1, ncols=2, figsize=(10, 5))\n",
    "\n",
    "meta_data_df.loc[mask, \"z\"].hist(bins=100, ax=axs[0])\n",
    "meta_data_df.loc[mask, \"snMedian\"].hist(bins=100, ax=axs[1])\n",
    "\n",
    "meta_data_df.loc[mask, [\"z\", \"snMedian\"]].describe()"
   ]
  },
  {
   "cell_type": "code",
   "execution_count": 8,
   "metadata": {},
   "outputs": [
    {
     "data": {
      "image/png": "[encoded data removed]",
      "text/plain": [
       "<Figure size 720x360 with 2 Axes>"
      ]
     },
     "metadata": {
      "needs_background": "light"
     },
     "output_type": "display_data"
    }
   ],
   "source": [
    "z_mask = np.logical_and(\n",
    "    0.01 <= meta_data_df[\"z\"], meta_data_df[\"z\"] <= 0.25\n",
    ")\n",
    "\n",
    "mask = snr_mask * z_mask\n",
    "fig, axs = plt.subplots(nrows=1, ncols=2, figsize=(10, 5))\n",
    "\n",
    "meta_data_df.loc[mask, \"z\"].hist(bins=100, ax=axs[0], label=\"z\")\n",
    "meta_data_df.loc[mask, \"snMedian\"].hist(bins=100, ax=axs[1], label=\"median SNR\")\n",
    "\n",
    "meta_data_df.loc[mask, [\"z\", \"snMedian\"]].describe()\n",
    "for ax in axs: ax.legend()"
   ]
  },
  {
   "cell_type": "code",
   "execution_count": 9,
   "metadata": {},
   "outputs": [],
   "source": [
    "# save list of specobjid and meta data\n",
    "meta_data_df.loc[mask].to_csv(f\"{data_directory}/spectra.csv.gz\")"
   ]
  },
  {
   "cell_type": "code",
   "execution_count": null,
   "metadata": {},
   "outputs": [],
   "source": []
  }
 ],
 "metadata": {
  "kernelspec": {
   "display_name": "Python 3.10.6 64-bit",
   "language": "python",
   "name": "python3"
  },
  "language_info": {
   "codemirror_mode": {
    "name": "ipython",
    "version": 3
   },
   "file_extension": ".py",
   "mimetype": "text/x-python",
   "name": "python",
   "nbconvert_exporter": "python",
   "pygments_lexer": "ipython3",
   "version": "3.10.6"
  },
  "orig_nbformat": 4,
  "vscode": {
   "interpreter": {
    "hash": "916dbcbb3f70747c44a77c7bcd40155683ae19c65e1c03b4aa3499c5328201f1"
   }
  }
 },
 "nbformat": 4,
 "nbformat_minor": 2
}
